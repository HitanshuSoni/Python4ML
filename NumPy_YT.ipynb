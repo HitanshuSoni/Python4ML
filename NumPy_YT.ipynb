{
  "nbformat": 4,
  "nbformat_minor": 0,
  "metadata": {
    "colab": {
      "name": "NumPy_YT.ipynb",
      "provenance": []
    },
    "kernelspec": {
      "name": "python3",
      "display_name": "Python 3"
    }
  },
  "cells": [
    {
      "cell_type": "code",
      "metadata": {
        "id": "OvtqRqrlTgZ6"
      },
      "source": [
        "import numpy as np"
      ],
      "execution_count": null,
      "outputs": []
    },
    {
      "cell_type": "code",
      "metadata": {
        "id": "37_T8CntlXcK"
      },
      "source": [
        "#1-D Array"
      ],
      "execution_count": null,
      "outputs": []
    },
    {
      "cell_type": "code",
      "metadata": {
        "colab": {
          "base_uri": "https://localhost:8080/"
        },
        "id": "PBw2WgGCldlE",
        "outputId": "a6d7a8fe-a1c7-4353-b7c4-b8cb90dff40e"
      },
      "source": [
        "a = np.array([1,2,3])\r\n",
        "print(a)\r\n",
        "a"
      ],
      "execution_count": null,
      "outputs": [
        {
          "output_type": "stream",
          "text": [
            "[1 2 3]\n"
          ],
          "name": "stdout"
        },
        {
          "output_type": "execute_result",
          "data": {
            "text/plain": [
              "array([1, 2, 3])"
            ]
          },
          "metadata": {
            "tags": []
          },
          "execution_count": 4
        }
      ]
    },
    {
      "cell_type": "code",
      "metadata": {
        "colab": {
          "base_uri": "https://localhost:8080/"
        },
        "id": "VX63QCLRlxw4",
        "outputId": "ec93fe7e-16e4-4eff-c3cf-4db8d6f7ada6"
      },
      "source": [
        "type(a)"
      ],
      "execution_count": null,
      "outputs": [
        {
          "output_type": "execute_result",
          "data": {
            "text/plain": [
              "numpy.ndarray"
            ]
          },
          "metadata": {
            "tags": []
          },
          "execution_count": 5
        }
      ]
    },
    {
      "cell_type": "code",
      "metadata": {
        "colab": {
          "base_uri": "https://localhost:8080/"
        },
        "id": "UL_xvbGNl7Pq",
        "outputId": "56567743-7690-47ff-9422-3a6e0282cba0"
      },
      "source": [
        "a.dtype\r\n"
      ],
      "execution_count": null,
      "outputs": [
        {
          "output_type": "execute_result",
          "data": {
            "text/plain": [
              "dtype('int64')"
            ]
          },
          "metadata": {
            "tags": []
          },
          "execution_count": 6
        }
      ]
    },
    {
      "cell_type": "code",
      "metadata": {
        "colab": {
          "base_uri": "https://localhost:8080/"
        },
        "id": "6qSNdHQamB9I",
        "outputId": "73251321-0e9f-441a-ba20-c1b6c0dfa7b7"
      },
      "source": [
        "b = np.array([2.3, 4.5])\r\n",
        "b\r\n"
      ],
      "execution_count": null,
      "outputs": [
        {
          "output_type": "execute_result",
          "data": {
            "text/plain": [
              "array([2.3, 4.5])"
            ]
          },
          "metadata": {
            "tags": []
          },
          "execution_count": 8
        }
      ]
    },
    {
      "cell_type": "code",
      "metadata": {
        "colab": {
          "base_uri": "https://localhost:8080/"
        },
        "id": "bSl5_49-mNV8",
        "outputId": "cbc5ab73-b492-4d29-87c9-5b20e63803e1"
      },
      "source": [
        "b.dtype"
      ],
      "execution_count": null,
      "outputs": [
        {
          "output_type": "execute_result",
          "data": {
            "text/plain": [
              "dtype('float64')"
            ]
          },
          "metadata": {
            "tags": []
          },
          "execution_count": 9
        }
      ]
    },
    {
      "cell_type": "markdown",
      "metadata": {
        "id": "i39436PMmW_2"
      },
      "source": [
        "Multi-D Array"
      ]
    },
    {
      "cell_type": "code",
      "metadata": {
        "colab": {
          "base_uri": "https://localhost:8080/"
        },
        "id": "pNI40tvSmaQM",
        "outputId": "4b1bff9f-e359-409e-e879-e4425e58e79e"
      },
      "source": [
        "c = np.array([[1,2,3],[4,5,6]])\r\n",
        "c"
      ],
      "execution_count": null,
      "outputs": [
        {
          "output_type": "execute_result",
          "data": {
            "text/plain": [
              "array([[1, 2, 3],\n",
              "       [4, 5, 6]])"
            ]
          },
          "metadata": {
            "tags": []
          },
          "execution_count": 10
        }
      ]
    },
    {
      "cell_type": "markdown",
      "metadata": {
        "id": "aiU9EcjxnQV-"
      },
      "source": [
        "Initilaztion NumPy Array with Zero"
      ]
    },
    {
      "cell_type": "code",
      "metadata": {
        "colab": {
          "base_uri": "https://localhost:8080/"
        },
        "id": "WQ4AE3vQnXb2",
        "outputId": "9a56b985-e018-4f59-aa3a-0941a64b10f8"
      },
      "source": [
        "n1 = np.zeros((1,2))\r\n",
        "n1"
      ],
      "execution_count": null,
      "outputs": [
        {
          "output_type": "execute_result",
          "data": {
            "text/plain": [
              "array([[0., 0.]])"
            ]
          },
          "metadata": {
            "tags": []
          },
          "execution_count": 11
        }
      ]
    },
    {
      "cell_type": "code",
      "metadata": {
        "colab": {
          "base_uri": "https://localhost:8080/"
        },
        "id": "1Kzce-vfnedh",
        "outputId": "2803f91f-343e-4f5b-98ce-6f96aa00046d"
      },
      "source": [
        "n1 = np.zeros((10,10))\r\n",
        "n1"
      ],
      "execution_count": null,
      "outputs": [
        {
          "output_type": "execute_result",
          "data": {
            "text/plain": [
              "array([[0., 0., 0., 0., 0., 0., 0., 0., 0., 0.],\n",
              "       [0., 0., 0., 0., 0., 0., 0., 0., 0., 0.],\n",
              "       [0., 0., 0., 0., 0., 0., 0., 0., 0., 0.],\n",
              "       [0., 0., 0., 0., 0., 0., 0., 0., 0., 0.],\n",
              "       [0., 0., 0., 0., 0., 0., 0., 0., 0., 0.],\n",
              "       [0., 0., 0., 0., 0., 0., 0., 0., 0., 0.],\n",
              "       [0., 0., 0., 0., 0., 0., 0., 0., 0., 0.],\n",
              "       [0., 0., 0., 0., 0., 0., 0., 0., 0., 0.],\n",
              "       [0., 0., 0., 0., 0., 0., 0., 0., 0., 0.],\n",
              "       [0., 0., 0., 0., 0., 0., 0., 0., 0., 0.]])"
            ]
          },
          "metadata": {
            "tags": []
          },
          "execution_count": 12
        }
      ]
    },
    {
      "cell_type": "markdown",
      "metadata": {
        "id": "E8KjnsHqnyZE"
      },
      "source": [
        "Intilazing numpy with Same Number"
      ]
    },
    {
      "cell_type": "code",
      "metadata": {
        "colab": {
          "base_uri": "https://localhost:8080/"
        },
        "id": "CHO8-V8Vnxo-",
        "outputId": "b723bf0a-279b-4d08-92c8-d4ba085f82ee"
      },
      "source": [
        "n3 = np.full((3,3),(5))\r\n",
        "n3"
      ],
      "execution_count": null,
      "outputs": [
        {
          "output_type": "execute_result",
          "data": {
            "text/plain": [
              "array([[5, 5, 5],\n",
              "       [5, 5, 5],\n",
              "       [5, 5, 5]])"
            ]
          },
          "metadata": {
            "tags": []
          },
          "execution_count": 13
        }
      ]
    },
    {
      "cell_type": "code",
      "metadata": {
        "colab": {
          "base_uri": "https://localhost:8080/"
        },
        "id": "Hpz5QfNNoDHx",
        "outputId": "c9d5ad24-b6cf-4ab0-f22f-f3145626ed52"
      },
      "source": [
        "n4 = np.full((6,6), 23)\r\n",
        "n4"
      ],
      "execution_count": null,
      "outputs": [
        {
          "output_type": "execute_result",
          "data": {
            "text/plain": [
              "array([[23, 23, 23, 23, 23, 23],\n",
              "       [23, 23, 23, 23, 23, 23],\n",
              "       [23, 23, 23, 23, 23, 23],\n",
              "       [23, 23, 23, 23, 23, 23],\n",
              "       [23, 23, 23, 23, 23, 23],\n",
              "       [23, 23, 23, 23, 23, 23]])"
            ]
          },
          "metadata": {
            "tags": []
          },
          "execution_count": 15
        }
      ]
    },
    {
      "cell_type": "markdown",
      "metadata": {
        "id": "uS7NMb7QocIc"
      },
      "source": [
        "Initilization NumPy array within a range"
      ]
    },
    {
      "cell_type": "code",
      "metadata": {
        "colab": {
          "base_uri": "https://localhost:8080/"
        },
        "id": "4HBPt611o6i-",
        "outputId": "b0c8f102-3110-47ff-de9c-f40c60ed41c5"
      },
      "source": [
        "n5 = np.arange(1,51)\r\n",
        "n5"
      ],
      "execution_count": null,
      "outputs": [
        {
          "output_type": "execute_result",
          "data": {
            "text/plain": [
              "array([ 1,  2,  3,  4,  5,  6,  7,  8,  9, 10, 11, 12, 13, 14, 15, 16, 17,\n",
              "       18, 19, 20, 21, 22, 23, 24, 25, 26, 27, 28, 29, 30, 31, 32, 33, 34,\n",
              "       35, 36, 37, 38, 39, 40, 41, 42, 43, 44, 45, 46, 47, 48, 49, 50])"
            ]
          },
          "metadata": {
            "tags": []
          },
          "execution_count": 17
        }
      ]
    },
    {
      "cell_type": "code",
      "metadata": {
        "colab": {
          "base_uri": "https://localhost:8080/"
        },
        "id": "ucoV9DjgpNc3",
        "outputId": "fd55a796-14a6-40d9-da6e-87a668c5f2e2"
      },
      "source": [
        "n6 = np.arange(0,51,10)\r\n",
        "n6"
      ],
      "execution_count": null,
      "outputs": [
        {
          "output_type": "execute_result",
          "data": {
            "text/plain": [
              "array([ 0, 10, 20, 30, 40, 50])"
            ]
          },
          "metadata": {
            "tags": []
          },
          "execution_count": 19
        }
      ]
    },
    {
      "cell_type": "markdown",
      "metadata": {
        "id": "enNA4ZO3pkzi"
      },
      "source": [
        "initilization numpy array random numbers"
      ]
    },
    {
      "cell_type": "code",
      "metadata": {
        "colab": {
          "base_uri": "https://localhost:8080/"
        },
        "id": "6zk2l2orpqvx",
        "outputId": "425a9db9-354c-404d-d93d-671f5b8cf978"
      },
      "source": [
        "n7 = np.random.randint(1,101,10)\r\n",
        "n7"
      ],
      "execution_count": null,
      "outputs": [
        {
          "output_type": "execute_result",
          "data": {
            "text/plain": [
              "array([ 47,  52,  31,  92, 100,  73,  13,  71,  67,  43])"
            ]
          },
          "metadata": {
            "tags": []
          },
          "execution_count": 21
        }
      ]
    },
    {
      "cell_type": "markdown",
      "metadata": {
        "id": "-9a8MlXNvc2y"
      },
      "source": [
        "Checking the shape of NumPy array"
      ]
    },
    {
      "cell_type": "code",
      "metadata": {
        "colab": {
          "base_uri": "https://localhost:8080/"
        },
        "id": "TPdBPsURvhrh",
        "outputId": "8fa29ee8-e82a-4bf2-e771-05d1daa3a267"
      },
      "source": [
        "n8 = np.array([[1,2,3], [4,5,6]])\r\n",
        "n8"
      ],
      "execution_count": null,
      "outputs": [
        {
          "output_type": "execute_result",
          "data": {
            "text/plain": [
              "array([[1, 2, 3],\n",
              "       [4, 5, 6]])"
            ]
          },
          "metadata": {
            "tags": []
          },
          "execution_count": 22
        }
      ]
    },
    {
      "cell_type": "code",
      "metadata": {
        "colab": {
          "base_uri": "https://localhost:8080/"
        },
        "id": "khgErZtbvtMP",
        "outputId": "092b9c75-8c36-4483-d334-1289cf7c0855"
      },
      "source": [
        "n8.shape"
      ],
      "execution_count": null,
      "outputs": [
        {
          "output_type": "execute_result",
          "data": {
            "text/plain": [
              "(2, 3)"
            ]
          },
          "metadata": {
            "tags": []
          },
          "execution_count": 23
        }
      ]
    },
    {
      "cell_type": "code",
      "metadata": {
        "colab": {
          "base_uri": "https://localhost:8080/"
        },
        "id": "y_SixOEmvxjH",
        "outputId": "3c1d636c-4112-4585-bba5-e440436e008f"
      },
      "source": [
        "n8.shape = (3,2)\r\n",
        "n8"
      ],
      "execution_count": null,
      "outputs": [
        {
          "output_type": "execute_result",
          "data": {
            "text/plain": [
              "array([[1, 2],\n",
              "       [3, 4],\n",
              "       [5, 6]])"
            ]
          },
          "metadata": {
            "tags": []
          },
          "execution_count": 24
        }
      ]
    },
    {
      "cell_type": "markdown",
      "metadata": {
        "id": "zCcjPaRnwCTo"
      },
      "source": [
        "Joining Of NumPy Array"
      ]
    },
    {
      "cell_type": "code",
      "metadata": {
        "id": "G3zrrnF6wFSv"
      },
      "source": [
        "n9 = np.array([10,20,30])\r\n",
        "n10 = np.array([40,50,60])"
      ],
      "execution_count": null,
      "outputs": []
    },
    {
      "cell_type": "code",
      "metadata": {
        "colab": {
          "base_uri": "https://localhost:8080/"
        },
        "id": "nCOxMwvRwVrR",
        "outputId": "2d3eb6ec-1f14-49be-fa39-cf5880b0817f"
      },
      "source": [
        "np.vstack((n9,n10))"
      ],
      "execution_count": null,
      "outputs": [
        {
          "output_type": "execute_result",
          "data": {
            "text/plain": [
              "array([[10, 20, 30],\n",
              "       [40, 50, 60]])"
            ]
          },
          "metadata": {
            "tags": []
          },
          "execution_count": 26
        }
      ]
    },
    {
      "cell_type": "code",
      "metadata": {
        "colab": {
          "base_uri": "https://localhost:8080/"
        },
        "id": "jW3C3Rw4wmaB",
        "outputId": "902885e8-ef15-4cca-eee3-d616676e1229"
      },
      "source": [
        "np.hstack((n9,n10))"
      ],
      "execution_count": null,
      "outputs": [
        {
          "output_type": "execute_result",
          "data": {
            "text/plain": [
              "array([10, 20, 30, 40, 50, 60])"
            ]
          },
          "metadata": {
            "tags": []
          },
          "execution_count": 27
        }
      ]
    },
    {
      "cell_type": "code",
      "metadata": {
        "colab": {
          "base_uri": "https://localhost:8080/"
        },
        "id": "23X2OxHkwsMt",
        "outputId": "2e6ee215-ca5b-4905-eec6-3d6104c500ab"
      },
      "source": [
        "np.column_stack((n9,n10))"
      ],
      "execution_count": null,
      "outputs": [
        {
          "output_type": "execute_result",
          "data": {
            "text/plain": [
              "array([[10, 40],\n",
              "       [20, 50],\n",
              "       [30, 60]])"
            ]
          },
          "metadata": {
            "tags": []
          },
          "execution_count": 28
        }
      ]
    },
    {
      "cell_type": "markdown",
      "metadata": {
        "id": "wEiXCgihxHef"
      },
      "source": [
        "NumPy Intersection & Diffrence"
      ]
    },
    {
      "cell_type": "code",
      "metadata": {
        "id": "FXBLhSTBxMmu"
      },
      "source": [
        "n11 = np.array([10,20,30,40,50,60])\r\n",
        "n12 = np.array([50,60,70,80,90])"
      ],
      "execution_count": null,
      "outputs": []
    },
    {
      "cell_type": "code",
      "metadata": {
        "colab": {
          "base_uri": "https://localhost:8080/"
        },
        "id": "O2IV30luxlo-",
        "outputId": "10ab5234-1d85-4b9d-a6b5-ba8c69ca0f32"
      },
      "source": [
        "np.intersect1d(n11,n12)"
      ],
      "execution_count": null,
      "outputs": [
        {
          "output_type": "execute_result",
          "data": {
            "text/plain": [
              "array([50, 60])"
            ]
          },
          "metadata": {
            "tags": []
          },
          "execution_count": 31
        }
      ]
    },
    {
      "cell_type": "code",
      "metadata": {
        "colab": {
          "base_uri": "https://localhost:8080/"
        },
        "id": "vjU-p7xIx4Tz",
        "outputId": "7f03d34d-02b5-4c5f-b564-36eef3d61d7c"
      },
      "source": [
        "np.setdiff1d(n11,n12)"
      ],
      "execution_count": null,
      "outputs": [
        {
          "output_type": "execute_result",
          "data": {
            "text/plain": [
              "array([10, 20, 30, 40])"
            ]
          },
          "metadata": {
            "tags": []
          },
          "execution_count": 32
        }
      ]
    },
    {
      "cell_type": "code",
      "metadata": {
        "colab": {
          "base_uri": "https://localhost:8080/"
        },
        "id": "l_J5nZx9yJgo",
        "outputId": "7ea429f0-6388-40e0-f5f8-836ac1c58538"
      },
      "source": [
        "np.setdiff1d(n12,n11)"
      ],
      "execution_count": null,
      "outputs": [
        {
          "output_type": "execute_result",
          "data": {
            "text/plain": [
              "array([70, 80, 90])"
            ]
          },
          "metadata": {
            "tags": []
          },
          "execution_count": 33
        }
      ]
    },
    {
      "cell_type": "markdown",
      "metadata": {
        "id": "4Emr4U5myauY"
      },
      "source": [
        "Mathematics of NumPy Array"
      ]
    },
    {
      "cell_type": "code",
      "metadata": {
        "id": "PW6o4kHmyZum"
      },
      "source": [
        "n13 = np.array([10,20])\r\n",
        "n14 = np.array([30,40])\r\n"
      ],
      "execution_count": null,
      "outputs": []
    },
    {
      "cell_type": "code",
      "metadata": {
        "colab": {
          "base_uri": "https://localhost:8080/"
        },
        "id": "bLdoLdV72_fH",
        "outputId": "679200b4-9287-4ca3-97e9-802b893c47b6"
      },
      "source": [
        "np.sum([n13,n14])"
      ],
      "execution_count": null,
      "outputs": [
        {
          "output_type": "execute_result",
          "data": {
            "text/plain": [
              "100"
            ]
          },
          "metadata": {
            "tags": []
          },
          "execution_count": 35
        }
      ]
    },
    {
      "cell_type": "code",
      "metadata": {
        "colab": {
          "base_uri": "https://localhost:8080/"
        },
        "id": "FZ008T7Q3H5V",
        "outputId": "c463faf3-2677-49f8-da71-6d143b1d9dd9"
      },
      "source": [
        "np.sum([n13, n14], axis=0)"
      ],
      "execution_count": null,
      "outputs": [
        {
          "output_type": "execute_result",
          "data": {
            "text/plain": [
              "array([40, 60])"
            ]
          },
          "metadata": {
            "tags": []
          },
          "execution_count": 36
        }
      ]
    },
    {
      "cell_type": "code",
      "metadata": {
        "colab": {
          "base_uri": "https://localhost:8080/"
        },
        "id": "pPcTsULH3bBc",
        "outputId": "c00bc790-7fb5-4678-9223-b86273535117"
      },
      "source": [
        "np.sum([n13,n14], axis=1)"
      ],
      "execution_count": null,
      "outputs": [
        {
          "output_type": "execute_result",
          "data": {
            "text/plain": [
              "array([30, 70])"
            ]
          },
          "metadata": {
            "tags": []
          },
          "execution_count": 37
        }
      ]
    },
    {
      "cell_type": "code",
      "metadata": {
        "id": "i3Z1QHo33jeZ"
      },
      "source": [
        "n15 = np.array([10,20,30])"
      ],
      "execution_count": null,
      "outputs": []
    },
    {
      "cell_type": "code",
      "metadata": {
        "colab": {
          "base_uri": "https://localhost:8080/"
        },
        "id": "thGK2T0i3q1B",
        "outputId": "dddea001-868e-4433-905d-e3aa63fa8906"
      },
      "source": [
        "n15+1"
      ],
      "execution_count": null,
      "outputs": [
        {
          "output_type": "execute_result",
          "data": {
            "text/plain": [
              "array([11, 21, 31])"
            ]
          },
          "metadata": {
            "tags": []
          },
          "execution_count": 39
        }
      ]
    },
    {
      "cell_type": "code",
      "metadata": {
        "colab": {
          "base_uri": "https://localhost:8080/"
        },
        "id": "ovqTKn0_3sj9",
        "outputId": "81facf7f-2717-4d00-e14b-df429dff97ae"
      },
      "source": [
        "n15-1"
      ],
      "execution_count": null,
      "outputs": [
        {
          "output_type": "execute_result",
          "data": {
            "text/plain": [
              "array([ 9, 19, 29])"
            ]
          },
          "metadata": {
            "tags": []
          },
          "execution_count": 40
        }
      ]
    },
    {
      "cell_type": "code",
      "metadata": {
        "colab": {
          "base_uri": "https://localhost:8080/"
        },
        "id": "2CR0fMSz3wJU",
        "outputId": "9d54b099-3415-4178-b136-c052cfb00944"
      },
      "source": [
        "n15*5"
      ],
      "execution_count": null,
      "outputs": [
        {
          "output_type": "execute_result",
          "data": {
            "text/plain": [
              "array([ 50, 100, 150])"
            ]
          },
          "metadata": {
            "tags": []
          },
          "execution_count": 41
        }
      ]
    },
    {
      "cell_type": "code",
      "metadata": {
        "colab": {
          "base_uri": "https://localhost:8080/"
        },
        "id": "JoWj7los3y6S",
        "outputId": "1362a255-6fd9-4652-c455-ea624682fd8b"
      },
      "source": [
        "n15/3"
      ],
      "execution_count": null,
      "outputs": [
        {
          "output_type": "execute_result",
          "data": {
            "text/plain": [
              "array([ 3.33333333,  6.66666667, 10.        ])"
            ]
          },
          "metadata": {
            "tags": []
          },
          "execution_count": 42
        }
      ]
    },
    {
      "cell_type": "code",
      "metadata": {
        "id": "__v8PArU4BM0"
      },
      "source": [
        "n16 = np.array([32,54,65,78,23,64,76,25,68,89,94,53])"
      ],
      "execution_count": null,
      "outputs": []
    },
    {
      "cell_type": "code",
      "metadata": {
        "colab": {
          "base_uri": "https://localhost:8080/"
        },
        "id": "ZVIIvksl4L1g",
        "outputId": "e08834e1-0017-4573-8c47-3a1b2a335799"
      },
      "source": [
        "np.mean(n16)"
      ],
      "execution_count": null,
      "outputs": [
        {
          "output_type": "execute_result",
          "data": {
            "text/plain": [
              "60.083333333333336"
            ]
          },
          "metadata": {
            "tags": []
          },
          "execution_count": 45
        }
      ]
    },
    {
      "cell_type": "code",
      "metadata": {
        "colab": {
          "base_uri": "https://localhost:8080/"
        },
        "id": "sMf1rGU24WwV",
        "outputId": "e228c7f9-4c3a-4a21-988d-66678eee6e96"
      },
      "source": [
        "np.std(n16)"
      ],
      "execution_count": null,
      "outputs": [
        {
          "output_type": "execute_result",
          "data": {
            "text/plain": [
              "22.629104906931005"
            ]
          },
          "metadata": {
            "tags": []
          },
          "execution_count": 46
        }
      ]
    },
    {
      "cell_type": "code",
      "metadata": {
        "colab": {
          "base_uri": "https://localhost:8080/"
        },
        "id": "EPrBBjoC4gDm",
        "outputId": "81985aee-025e-4993-ce50-9d0fc6a029f2"
      },
      "source": [
        "np.median(n16)"
      ],
      "execution_count": null,
      "outputs": [
        {
          "output_type": "execute_result",
          "data": {
            "text/plain": [
              "64.5"
            ]
          },
          "metadata": {
            "tags": []
          },
          "execution_count": 47
        }
      ]
    },
    {
      "cell_type": "code",
      "metadata": {
        "id": "AzVFJPYZ4nfv"
      },
      "source": [
        "n17 = np.array([32,44,65])\r\n",
        "n18 = np.array([45,76,22])"
      ],
      "execution_count": null,
      "outputs": []
    },
    {
      "cell_type": "code",
      "metadata": {
        "colab": {
          "base_uri": "https://localhost:8080/"
        },
        "id": "FDzI79UD4w91",
        "outputId": "0f9f58c4-ba23-4549-fd29-2573d8978208"
      },
      "source": [
        "n17.dot(n18)"
      ],
      "execution_count": null,
      "outputs": [
        {
          "output_type": "execute_result",
          "data": {
            "text/plain": [
              "6214"
            ]
          },
          "metadata": {
            "tags": []
          },
          "execution_count": 49
        }
      ]
    },
    {
      "cell_type": "markdown",
      "metadata": {
        "id": "sMoh0da25TKF"
      },
      "source": [
        "Save And Load NumPy"
      ]
    },
    {
      "cell_type": "code",
      "metadata": {
        "id": "FTEHjCUh4_gO"
      },
      "source": [
        "n19 = np.array([12,34,56,324,6743,76,5634,64,7534,564,35])\r\n",
        "np.save('final_numpy_array', n19)"
      ],
      "execution_count": null,
      "outputs": []
    },
    {
      "cell_type": "code",
      "metadata": {
        "colab": {
          "base_uri": "https://localhost:8080/"
        },
        "id": "6roA0-kw5wfG",
        "outputId": "91b0c5ea-6294-4a46-8f94-43c01f9d52b9"
      },
      "source": [
        "n20 = np.load('/content/final_numpy_array.npy')\r\n",
        "n20"
      ],
      "execution_count": null,
      "outputs": [
        {
          "output_type": "execute_result",
          "data": {
            "text/plain": [
              "array([  12,   34,   56,  324, 6743,   76, 5634,   64, 7534,  564,   35])"
            ]
          },
          "metadata": {
            "tags": []
          },
          "execution_count": 51
        }
      ]
    }
  ]
}